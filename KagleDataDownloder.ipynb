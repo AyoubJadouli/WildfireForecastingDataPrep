{
 "cells": [
  {
   "cell_type": "markdown",
   "id": "f58477f0-cf6e-4a13-82c7-c886b16c5b1c",
   "metadata": {},
   "source": [
    "# Kagle Data Downloader Tool"
   ]
  },
  {
   "cell_type": "code",
   "execution_count": 1,
   "id": "be3fc501-895d-4235-9767-c3819f089c48",
   "metadata": {},
   "outputs": [],
   "source": [
    "# !pip install opendatasets\n",
    "# !pip install rclone\n",
    "# from rclone.rclone import Rclone\n",
    "# rc = Rclone()\n",
    "# RemoteData = 'thesis:/'\n",
    "#!nohup /usr/bin/rclone mount --config=/home/one/.config/rclone/rclone.conf --vfs-cache-mode=off --vfs-cache-max-age=1h0m0s --vfs-cache-max-size=4M --vfs-cache-poll-interval=1m0s --vfs-write-back=5s --dir-perms=0777 --file-perms=0777 --buffer-size=100M --allow-other --allow-non-empty --drive-chunk-size=4M --transfers=30 --log-file=/var/log/tdata-rclone.log -vP thesis:/ /TDATA > nohum.out\n",
    "import opendatasets as od\n",
    "import pandas"
   ]
  },
  {
   "cell_type": "code",
   "execution_count": 2,
   "id": "d5e406d5-b92b-4984-8638-84da20280c3e",
   "metadata": {},
   "outputs": [],
   "source": [
    "remote_data=\"/thesis/Thesis_Work/Data/RemoteData\"\n",
    "credentials_path = '/thesis/Thesis_Work/Data/PublicCreds/kaggle_creds.json'\n",
    "# cache_dir = './cache'\n",
    "cache_dir = '/thesis/Thesis_Work/Data/Cache'\n",
    "DataTypes={1:\"IgnitionSourcesHumanActivities\",\n",
    "           2:\"RemoteSensingData\",\n",
    "           3:\"TopographicandGeospatialData\",\n",
    "           4:\"WeatherData\",\n",
    "           5:\"AtmosphericDataFire-AtmosphereInteractions\",\n",
    "           6:\"FuelCharacteristics\",\n",
    "           7: \"FireHistory\",\n",
    "           8:\"OtherTypes\",    \n",
    "          }"
   ]
  },
  {
   "cell_type": "code",
   "execution_count": 3,
   "id": "0e4aacf1-16a5-48a1-80c7-74151612f583",
   "metadata": {},
   "outputs": [
    {
     "name": "stdout",
     "output_type": "stream",
     "text": [
      "AtmosphericDataFire-AtmosphereInteractions  OtherTypes\n",
      "FireHistory\t\t\t\t    RemoteSensingData\n",
      "FuelCharacteristics\t\t\t    TopographicandGeospatialData\n",
      "IgnitionSourcesHumanActivities\t\t    WeatherData\n"
     ]
    }
   ],
   "source": [
    "!ls RemoteData "
   ]
  },
  {
   "cell_type": "code",
   "execution_count": null,
   "id": "c65a24f0-0712-4f41-889f-8953ef6c70e9",
   "metadata": {},
   "outputs": [],
   "source": [
    "# os.environ['KAGGLE_CONFIG_DIR']='/thesis/Thesis_Work/Data/PublicCreds/'"
   ]
  },
  {
   "cell_type": "code",
   "execution_count": 4,
   "id": "cdf9f633-2189-4ec6-98b6-b6966bd2a6bc",
   "metadata": {},
   "outputs": [],
   "source": [
    "## Best Kaggle WildFire datasests\n",
    "FireHistory_DATA_LINKS=[\n",
    "# \"https://www.kaggle.com/datasets/rtatman/188-million-us-wildfires\",\n",
    "# \"https://www.kaggle.com/datasets/ananthu017/california-wildfire-incidents-20132020\",\n",
    "# \"https://www.kaggle.com/datasets/abdelghaniaaba/wildfire-prediction-dataset\",\n",
    "\"https://www.kaggle.com/datasets/fantineh/next-day-wildfire-spread\"\n",
    ",\n",
    "\"https://www.kaggle.com/datasets/brsdincer/wildfire-detection-image-data\"\n",
    ",\n",
    "\"https://www.kaggle.com/datasets/kkhandekar/total-wildfires-acres-affected-1983-2020\"\n",
    ",\n",
    "\"https://www.kaggle.com/datasets/aestheteaman01/278k-us-wildfires-due-to-lightning-2004-2015\"\n",
    ",\n",
    "\"https://www.kaggle.com/datasets/washingtongold/wildfire-satellite-data\"\n",
    ",\n",
    "\"https://www.kaggle.com/datasets/brsdincer/investigative-wildfire-data-for-turkey-nasa\"\n",
    ",\n",
    "\"https://www.kaggle.com/datasets/behroozsohrabi/us-wildfire-records-6th-edition\"\n",
    ",\n",
    "\"https://www.kaggle.com/datasets/brsdincer/20002020-turkey-wildfire-data-nasa\"\n",
    ",\n",
    "\"https://www.kaggle.com/datasets/brsdincer/20002020-mugla-wildfire-data-nasa\"\n",
    ",\n",
    "\"https://www.kaggle.com/datasets/rupakroy/cyclone-wildfire-flood-earthquake-database\"\n",
    ",\n",
    "\"https://www.kaggle.com/datasets/avkashchauhan/california-wildfire-dataset-from-2000-2021\"\n",
    ",\n",
    "\"https://www.kaggle.com/datasets/joaoavf/wildfire-photos\"]"
   ]
  },
  {
   "cell_type": "code",
   "execution_count": 5,
   "id": "ef58f371-351f-437e-ab9c-e0ef838a4e5b",
   "metadata": {},
   "outputs": [],
   "source": [
    "data_link=\"https://www.kaggle.com/datasets/muratkokludataset/acoustic-extinguisher-fire-dataset\"\n",
    "data_name=data_link.split(\"/\")[-1]"
   ]
  },
  {
   "cell_type": "code",
   "execution_count": 10,
   "id": "a991d435-f58a-4cba-b9d5-fe1c2fb2cfcb",
   "metadata": {},
   "outputs": [],
   "source": [
    "! rm -rf {data_name}"
   ]
  },
  {
   "cell_type": "code",
   "execution_count": 6,
   "id": "5d1eef89-4cbb-43d7-8823-e0e3e8846b40",
   "metadata": {},
   "outputs": [
    {
     "name": "stdout",
     "output_type": "stream",
     "text": [
      "Skipping, found downloaded files in \"./next-day-wildfire-spread\" (use force=True to force download)\n",
      "Downloading wildfire-detection-image-data.zip to ./wildfire-detection-image-data\n"
     ]
    },
    {
     "name": "stderr",
     "output_type": "stream",
     "text": [
      "100%|████████████████████████████████████████████████████████████████████████████████████████████████████████████████████████████████████████████████████████████| 24.9M/24.9M [00:01<00:00, 13.7MB/s]\n"
     ]
    },
    {
     "name": "stdout",
     "output_type": "stream",
     "text": [
      "\n",
      "Downloading total-wildfires-acres-affected-1983-2020.zip to ./total-wildfires-acres-affected-1983-2020\n"
     ]
    },
    {
     "name": "stderr",
     "output_type": "stream",
     "text": [
      "100%|████████████████████████████████████████████████████████████████████████████████████████████████████████████████████████████████████████████████████████████| 1.93k/1.93k [00:00<00:00, 3.51MB/s]"
     ]
    },
    {
     "name": "stdout",
     "output_type": "stream",
     "text": [
      "\n"
     ]
    },
    {
     "name": "stderr",
     "output_type": "stream",
     "text": [
      "\n"
     ]
    },
    {
     "name": "stdout",
     "output_type": "stream",
     "text": [
      "Downloading 278k-us-wildfires-due-to-lightning-2004-2015.zip to ./278k-us-wildfires-due-to-lightning-2004-2015\n"
     ]
    },
    {
     "name": "stderr",
     "output_type": "stream",
     "text": [
      "100%|████████████████████████████████████████████████████████████████████████████████████████████████████████████████████████████████████████████████████████████| 5.85M/5.85M [00:00<00:00, 8.41MB/s]\n"
     ]
    },
    {
     "name": "stdout",
     "output_type": "stream",
     "text": [
      "\n",
      "cp: failed to close '/thesis/Thesis_Work/Data/RemoteData/FireHistory/278k-us-wildfires-due-to-lightning-2004-2015/US_Lightning_Forest_Fires.csv': Input/output error\n",
      "Downloading wildfire-satellite-data.zip to ./wildfire-satellite-data\n"
     ]
    },
    {
     "name": "stderr",
     "output_type": "stream",
     "text": [
      "100%|████████████████████████████████████████████████████████████████████████████████████████████████████████████████████████████████████████████████████████████| 22.2M/22.2M [00:01<00:00, 17.3MB/s]\n"
     ]
    },
    {
     "name": "stdout",
     "output_type": "stream",
     "text": [
      "\n",
      "Downloading investigative-wildfire-data-for-turkey-nasa.zip to ./investigative-wildfire-data-for-turkey-nasa\n"
     ]
    },
    {
     "name": "stderr",
     "output_type": "stream",
     "text": [
      "100%|██████████████████████████████████████████████████████████████████████████████████████████████████████████████████████████████████████████████████████████████| 309M/309M [00:10<00:00, 30.2MB/s]\n"
     ]
    },
    {
     "name": "stdout",
     "output_type": "stream",
     "text": [
      "\n",
      "cp: failed to close '/thesis/Thesis_Work/Data/RemoteData/FireHistory/investigative-wildfire-data-for-turkey-nasa/INVESTIGATIVE WILDFIRE DATA FOR TURKEY_NASA/LAST YEARS ALL COUNTRIES/modis_single/2017/modis_2017_Colombia.csv': Input/output error\n",
      "cp: failed to close '/thesis/Thesis_Work/Data/RemoteData/FireHistory/investigative-wildfire-data-for-turkey-nasa/INVESTIGATIVE WILDFIRE DATA FOR TURKEY_NASA/LAST YEARS ALL COUNTRIES/modis_single/2017/modis_2017_Republic_of_Congo.csv': Input/output error\n",
      "cp: failed to close '/thesis/Thesis_Work/Data/RemoteData/FireHistory/investigative-wildfire-data-for-turkey-nasa/INVESTIGATIVE WILDFIRE DATA FOR TURKEY_NASA/LAST YEARS ALL COUNTRIES/modis_single/2017/modis_2017_Syria.csv': Input/output error\n",
      "cp: failed to close '/thesis/Thesis_Work/Data/RemoteData/FireHistory/investigative-wildfire-data-for-turkey-nasa/INVESTIGATIVE WILDFIRE DATA FOR TURKEY_NASA/LAST YEARS ALL COUNTRIES/modis_single/2017/modis_2017_Zimbabwe.csv': Input/output error\n",
      "cp: failed to close '/thesis/Thesis_Work/Data/RemoteData/FireHistory/investigative-wildfire-data-for-turkey-nasa/INVESTIGATIVE WILDFIRE DATA FOR TURKEY_NASA/LAST YEARS ALL COUNTRIES/modis_single/2018/modis_2018_Argentina.csv': Input/output error\n",
      "cp: failed to close '/thesis/Thesis_Work/Data/RemoteData/FireHistory/investigative-wildfire-data-for-turkey-nasa/INVESTIGATIVE WILDFIRE DATA FOR TURKEY_NASA/LAST YEARS ALL COUNTRIES/modis_single/2018/modis_2018_Canada.csv': Input/output error\n",
      "cp: failed to close '/thesis/Thesis_Work/Data/RemoteData/FireHistory/investigative-wildfire-data-for-turkey-nasa/INVESTIGATIVE WILDFIRE DATA FOR TURKEY_NASA/LAST YEARS ALL COUNTRIES/modis_single/2018/modis_2018_Indonesia.csv': Input/output error\n",
      "cp: failed to close '/thesis/Thesis_Work/Data/RemoteData/FireHistory/investigative-wildfire-data-for-turkey-nasa/INVESTIGATIVE WILDFIRE DATA FOR TURKEY_NASA/LAST YEARS ALL COUNTRIES/modis_single/2019/modis_2019_Democratic_Republic_of_the_Congo.csv': Input/output error\n",
      "cp: failed to close '/thesis/Thesis_Work/Data/RemoteData/FireHistory/investigative-wildfire-data-for-turkey-nasa/INVESTIGATIVE WILDFIRE DATA FOR TURKEY_NASA/LAST YEARS ALL COUNTRIES/modis_single/2019/modis_2019_Kenya.csv': Input/output error\n",
      "cp: failed to close '/thesis/Thesis_Work/Data/RemoteData/FireHistory/investigative-wildfire-data-for-turkey-nasa/INVESTIGATIVE WILDFIRE DATA FOR TURKEY_NASA/LAST YEARS ALL COUNTRIES/modis_single/2019/modis_2019_Mozambique.csv': Input/output error\n",
      "cp: failed to close '/thesis/Thesis_Work/Data/RemoteData/FireHistory/investigative-wildfire-data-for-turkey-nasa/INVESTIGATIVE WILDFIRE DATA FOR TURKEY_NASA/LAST YEARS ALL COUNTRIES/modis_single/2019/modis_2019_Thailand.csv': Input/output error\n",
      "cp: failed to close '/thesis/Thesis_Work/Data/RemoteData/FireHistory/investigative-wildfire-data-for-turkey-nasa/INVESTIGATIVE WILDFIRE DATA FOR TURKEY_NASA/LAST YEARS ALL COUNTRIES/modis_single/2020/modis_2020_Cuba.csv': Input/output error\n",
      "cp: failed to close '/thesis/Thesis_Work/Data/RemoteData/FireHistory/investigative-wildfire-data-for-turkey-nasa/INVESTIGATIVE WILDFIRE DATA FOR TURKEY_NASA/LAST YEARS ALL COUNTRIES/modis_single/2020/modis_2020_Mozambique.csv': Input/output error\n",
      "cp: failed to close '/thesis/Thesis_Work/Data/RemoteData/FireHistory/investigative-wildfire-data-for-turkey-nasa/INVESTIGATIVE WILDFIRE DATA FOR TURKEY_NASA/LAST YEARS ALL COUNTRIES/modis_single/2020/modis_2020_Romania.csv': Input/output error\n",
      "Downloading us-wildfire-records-6th-edition.zip to ./us-wildfire-records-6th-edition\n"
     ]
    },
    {
     "name": "stderr",
     "output_type": "stream",
     "text": [
      "100%|██████████████████████████████████████████████████████████████████████████████████████████████████████████████████████████████████████████████████████████████| 376M/376M [00:14<00:00, 26.4MB/s]\n"
     ]
    },
    {
     "name": "stdout",
     "output_type": "stream",
     "text": [
      "\n",
      "Downloading 20002020-turkey-wildfire-data-nasa.zip to ./20002020-turkey-wildfire-data-nasa\n"
     ]
    },
    {
     "name": "stderr",
     "output_type": "stream",
     "text": [
      "100%|████████████████████████████████████████████████████████████████████████████████████████████████████████████████████████████████████████████████████████████| 3.64M/3.64M [00:00<00:00, 8.08MB/s]\n"
     ]
    },
    {
     "name": "stdout",
     "output_type": "stream",
     "text": [
      "\n",
      "cp: failed to close '/thesis/Thesis_Work/Data/RemoteData/FireHistory/20002020-turkey-wildfire-data-nasa/2000-2020 TURKEY/modis_2005_Turkey.csv': Input/output error\n",
      "Downloading 20002020-mugla-wildfire-data-nasa.zip to ./20002020-mugla-wildfire-data-nasa\n"
     ]
    },
    {
     "name": "stderr",
     "output_type": "stream",
     "text": [
      "100%|███████████████████████████████████████████████████████████████████████████████████████████████████████████████████████████████████████████████████████████████| 280k/280k [00:00<00:00, 756kB/s]"
     ]
    },
    {
     "name": "stdout",
     "output_type": "stream",
     "text": [
      "\n"
     ]
    },
    {
     "name": "stderr",
     "output_type": "stream",
     "text": [
      "\n"
     ]
    },
    {
     "name": "stdout",
     "output_type": "stream",
     "text": [
      "Downloading cyclone-wildfire-flood-earthquake-database.zip to ./cyclone-wildfire-flood-earthquake-database\n"
     ]
    },
    {
     "name": "stderr",
     "output_type": "stream",
     "text": [
      "100%|████████████████████████████████████████████████████████████████████████████████████████████████████████████████████████████████████████████████████████████| 3.11G/3.11G [02:02<00:00, 27.2MB/s]\n"
     ]
    },
    {
     "name": "stdout",
     "output_type": "stream",
     "text": [
      "\n",
      "cp: failed to close '/thesis/Thesis_Work/Data/RemoteData/FireHistory/cyclone-wildfire-flood-earthquake-database/Cyclone_Wildfire_Flood_Earthquake_Database/Cyclone_Wildfire_Flood_Earthquake_Database/Cyclone/185.jpg': Input/output error\n",
      "cp: failed to close '/thesis/Thesis_Work/Data/RemoteData/FireHistory/cyclone-wildfire-flood-earthquake-database/Cyclone_Wildfire_Flood_Earthquake_Database/Cyclone_Wildfire_Flood_Earthquake_Database/Cyclone/204.jpg': Input/output error\n",
      "cp: failed to close '/thesis/Thesis_Work/Data/RemoteData/FireHistory/cyclone-wildfire-flood-earthquake-database/Cyclone_Wildfire_Flood_Earthquake_Database/Cyclone_Wildfire_Flood_Earthquake_Database/Cyclone/224.jpg': Input/output error\n",
      "cp: failed to close '/thesis/Thesis_Work/Data/RemoteData/FireHistory/cyclone-wildfire-flood-earthquake-database/Cyclone_Wildfire_Flood_Earthquake_Database/Cyclone_Wildfire_Flood_Earthquake_Database/Cyclone/248.jpg': Input/output error\n",
      "cp: failed to close '/thesis/Thesis_Work/Data/RemoteData/FireHistory/cyclone-wildfire-flood-earthquake-database/Cyclone_Wildfire_Flood_Earthquake_Database/Cyclone_Wildfire_Flood_Earthquake_Database/Cyclone/396.jpg': Input/output error\n",
      "cp: failed to close '/thesis/Thesis_Work/Data/RemoteData/FireHistory/cyclone-wildfire-flood-earthquake-database/Cyclone_Wildfire_Flood_Earthquake_Database/Cyclone_Wildfire_Flood_Earthquake_Database/Cyclone/443.jpg': Input/output error\n",
      "cp: failed to close '/thesis/Thesis_Work/Data/RemoteData/FireHistory/cyclone-wildfire-flood-earthquake-database/Cyclone_Wildfire_Flood_Earthquake_Database/Cyclone_Wildfire_Flood_Earthquake_Database/Cyclone/510.jpg': Input/output error\n",
      "cp: failed to close '/thesis/Thesis_Work/Data/RemoteData/FireHistory/cyclone-wildfire-flood-earthquake-database/Cyclone_Wildfire_Flood_Earthquake_Database/Cyclone_Wildfire_Flood_Earthquake_Database/Cyclone/541.jpg': Input/output error\n",
      "cp: failed to close '/thesis/Thesis_Work/Data/RemoteData/FireHistory/cyclone-wildfire-flood-earthquake-database/Cyclone_Wildfire_Flood_Earthquake_Database/Cyclone_Wildfire_Flood_Earthquake_Database/Cyclone/576.jpg': Input/output error\n",
      "cp: failed to close '/thesis/Thesis_Work/Data/RemoteData/FireHistory/cyclone-wildfire-flood-earthquake-database/Cyclone_Wildfire_Flood_Earthquake_Database/Cyclone_Wildfire_Flood_Earthquake_Database/Cyclone/596.jpg': Input/output error\n",
      "cp: failed to close '/thesis/Thesis_Work/Data/RemoteData/FireHistory/cyclone-wildfire-flood-earthquake-database/Cyclone_Wildfire_Flood_Earthquake_Database/Cyclone_Wildfire_Flood_Earthquake_Database/Cyclone/62.jpg': Input/output error\n",
      "cp: failed to close '/thesis/Thesis_Work/Data/RemoteData/FireHistory/cyclone-wildfire-flood-earthquake-database/Cyclone_Wildfire_Flood_Earthquake_Database/Cyclone_Wildfire_Flood_Earthquake_Database/Cyclone/702.jpg': Input/output error\n",
      "cp: failed to close '/thesis/Thesis_Work/Data/RemoteData/FireHistory/cyclone-wildfire-flood-earthquake-database/Cyclone_Wildfire_Flood_Earthquake_Database/Cyclone_Wildfire_Flood_Earthquake_Database/Cyclone/719.jpg': Input/output error\n",
      "cp: failed to close '/thesis/Thesis_Work/Data/RemoteData/FireHistory/cyclone-wildfire-flood-earthquake-database/Cyclone_Wildfire_Flood_Earthquake_Database/Cyclone_Wildfire_Flood_Earthquake_Database/Cyclone/756.jpg': Input/output error\n",
      "cp: failed to close '/thesis/Thesis_Work/Data/RemoteData/FireHistory/cyclone-wildfire-flood-earthquake-database/Cyclone_Wildfire_Flood_Earthquake_Database/Cyclone_Wildfire_Flood_Earthquake_Database/Cyclone/776.jpg': Input/output error\n",
      "cp: failed to close '/thesis/Thesis_Work/Data/RemoteData/FireHistory/cyclone-wildfire-flood-earthquake-database/Cyclone_Wildfire_Flood_Earthquake_Database/Cyclone_Wildfire_Flood_Earthquake_Database/Cyclone/884.jpg': Input/output error\n",
      "cp: failed to close '/thesis/Thesis_Work/Data/RemoteData/FireHistory/cyclone-wildfire-flood-earthquake-database/Cyclone_Wildfire_Flood_Earthquake_Database/Cyclone_Wildfire_Flood_Earthquake_Database/Cyclone/903.jpg': Input/output error\n",
      "cp: failed to close '/thesis/Thesis_Work/Data/RemoteData/FireHistory/cyclone-wildfire-flood-earthquake-database/Cyclone_Wildfire_Flood_Earthquake_Database/Cyclone_Wildfire_Flood_Earthquake_Database/Earthquake/10.jpg': Input/output error\n",
      "cp: failed to close '/thesis/Thesis_Work/Data/RemoteData/FireHistory/cyclone-wildfire-flood-earthquake-database/Cyclone_Wildfire_Flood_Earthquake_Database/Cyclone_Wildfire_Flood_Earthquake_Database/Earthquake/1017.jpg': Input/output error\n",
      "cp: failed to close '/thesis/Thesis_Work/Data/RemoteData/FireHistory/cyclone-wildfire-flood-earthquake-database/Cyclone_Wildfire_Flood_Earthquake_Database/Cyclone_Wildfire_Flood_Earthquake_Database/Earthquake/1103.jpg': Input/output error\n",
      "cp: failed to close '/thesis/Thesis_Work/Data/RemoteData/FireHistory/cyclone-wildfire-flood-earthquake-database/Cyclone_Wildfire_Flood_Earthquake_Database/Cyclone_Wildfire_Flood_Earthquake_Database/Earthquake/1140.jpg': Input/output error\n",
      "cp: failed to close '/thesis/Thesis_Work/Data/RemoteData/FireHistory/cyclone-wildfire-flood-earthquake-database/Cyclone_Wildfire_Flood_Earthquake_Database/Cyclone_Wildfire_Flood_Earthquake_Database/Earthquake/1152.jpg': Input/output error\n",
      "cp: failed to close '/thesis/Thesis_Work/Data/RemoteData/FireHistory/cyclone-wildfire-flood-earthquake-database/Cyclone_Wildfire_Flood_Earthquake_Database/Cyclone_Wildfire_Flood_Earthquake_Database/Earthquake/1161.jpg': Input/output error\n",
      "cp: failed to close '/thesis/Thesis_Work/Data/RemoteData/FireHistory/cyclone-wildfire-flood-earthquake-database/Cyclone_Wildfire_Flood_Earthquake_Database/Cyclone_Wildfire_Flood_Earthquake_Database/Earthquake/1190.jpg': Input/output error\n",
      "cp: failed to close '/thesis/Thesis_Work/Data/RemoteData/FireHistory/cyclone-wildfire-flood-earthquake-database/Cyclone_Wildfire_Flood_Earthquake_Database/Cyclone_Wildfire_Flood_Earthquake_Database/Earthquake/1265.jpg': Input/output error\n",
      "cp: failed to close '/thesis/Thesis_Work/Data/RemoteData/FireHistory/cyclone-wildfire-flood-earthquake-database/Cyclone_Wildfire_Flood_Earthquake_Database/Cyclone_Wildfire_Flood_Earthquake_Database/Earthquake/1285.jpg': Input/output error\n",
      "cp: failed to close '/thesis/Thesis_Work/Data/RemoteData/FireHistory/cyclone-wildfire-flood-earthquake-database/Cyclone_Wildfire_Flood_Earthquake_Database/Cyclone_Wildfire_Flood_Earthquake_Database/Earthquake/1301.jpg': Input/output error\n",
      "cp: failed to close '/thesis/Thesis_Work/Data/RemoteData/FireHistory/cyclone-wildfire-flood-earthquake-database/Cyclone_Wildfire_Flood_Earthquake_Database/Cyclone_Wildfire_Flood_Earthquake_Database/Earthquake/1336.jpg': Input/output error\n",
      "cp: failed to close '/thesis/Thesis_Work/Data/RemoteData/FireHistory/cyclone-wildfire-flood-earthquake-database/Cyclone_Wildfire_Flood_Earthquake_Database/Cyclone_Wildfire_Flood_Earthquake_Database/Earthquake/16.jpg': Input/output error\n",
      "cp: failed to close '/thesis/Thesis_Work/Data/RemoteData/FireHistory/cyclone-wildfire-flood-earthquake-database/Cyclone_Wildfire_Flood_Earthquake_Database/Cyclone_Wildfire_Flood_Earthquake_Database/Earthquake/207.jpg': Input/output error\n",
      "cp: failed to close '/thesis/Thesis_Work/Data/RemoteData/FireHistory/cyclone-wildfire-flood-earthquake-database/Cyclone_Wildfire_Flood_Earthquake_Database/Cyclone_Wildfire_Flood_Earthquake_Database/Earthquake/228.jpg': Input/output error\n",
      "cp: failed to close '/thesis/Thesis_Work/Data/RemoteData/FireHistory/cyclone-wildfire-flood-earthquake-database/Cyclone_Wildfire_Flood_Earthquake_Database/Cyclone_Wildfire_Flood_Earthquake_Database/Earthquake/261.jpg': Input/output error\n",
      "cp: failed to close '/thesis/Thesis_Work/Data/RemoteData/FireHistory/cyclone-wildfire-flood-earthquake-database/Cyclone_Wildfire_Flood_Earthquake_Database/Cyclone_Wildfire_Flood_Earthquake_Database/Earthquake/28.jpg': Input/output error\n",
      "cp: failed to close '/thesis/Thesis_Work/Data/RemoteData/FireHistory/cyclone-wildfire-flood-earthquake-database/Cyclone_Wildfire_Flood_Earthquake_Database/Cyclone_Wildfire_Flood_Earthquake_Database/Earthquake/306.jpg': Input/output error\n",
      "cp: failed to close '/thesis/Thesis_Work/Data/RemoteData/FireHistory/cyclone-wildfire-flood-earthquake-database/Cyclone_Wildfire_Flood_Earthquake_Database/Cyclone_Wildfire_Flood_Earthquake_Database/Earthquake/307.jpg': Input/output error\n",
      "cp: failed to close '/thesis/Thesis_Work/Data/RemoteData/FireHistory/cyclone-wildfire-flood-earthquake-database/Cyclone_Wildfire_Flood_Earthquake_Database/Cyclone_Wildfire_Flood_Earthquake_Database/Earthquake/342.jpg': Input/output error\n",
      "cp: failed to close '/thesis/Thesis_Work/Data/RemoteData/FireHistory/cyclone-wildfire-flood-earthquake-database/Cyclone_Wildfire_Flood_Earthquake_Database/Cyclone_Wildfire_Flood_Earthquake_Database/Earthquake/354.jpg': Input/output error\n",
      "cp: failed to close '/thesis/Thesis_Work/Data/RemoteData/FireHistory/cyclone-wildfire-flood-earthquake-database/Cyclone_Wildfire_Flood_Earthquake_Database/Cyclone_Wildfire_Flood_Earthquake_Database/Earthquake/403.jpg': Input/output error\n",
      "cp: failed to close '/thesis/Thesis_Work/Data/RemoteData/FireHistory/cyclone-wildfire-flood-earthquake-database/Cyclone_Wildfire_Flood_Earthquake_Database/Cyclone_Wildfire_Flood_Earthquake_Database/Earthquake/50.jpg': Input/output error\n",
      "cp: failed to close '/thesis/Thesis_Work/Data/RemoteData/FireHistory/cyclone-wildfire-flood-earthquake-database/Cyclone_Wildfire_Flood_Earthquake_Database/Cyclone_Wildfire_Flood_Earthquake_Database/Earthquake/573.jpg': Input/output error\n",
      "cp: failed to close '/thesis/Thesis_Work/Data/RemoteData/FireHistory/cyclone-wildfire-flood-earthquake-database/Cyclone_Wildfire_Flood_Earthquake_Database/Cyclone_Wildfire_Flood_Earthquake_Database/Earthquake/60.jpg': Input/output error\n",
      "cp: failed to close '/thesis/Thesis_Work/Data/RemoteData/FireHistory/cyclone-wildfire-flood-earthquake-database/Cyclone_Wildfire_Flood_Earthquake_Database/Cyclone_Wildfire_Flood_Earthquake_Database/Earthquake/641.jpg': Input/output error\n",
      "cp: failed to close '/thesis/Thesis_Work/Data/RemoteData/FireHistory/cyclone-wildfire-flood-earthquake-database/Cyclone_Wildfire_Flood_Earthquake_Database/Cyclone_Wildfire_Flood_Earthquake_Database/Earthquake/660.jpg': Input/output error\n",
      "cp: failed to close '/thesis/Thesis_Work/Data/RemoteData/FireHistory/cyclone-wildfire-flood-earthquake-database/Cyclone_Wildfire_Flood_Earthquake_Database/Cyclone_Wildfire_Flood_Earthquake_Database/Earthquake/718.jpg': Input/output error\n",
      "cp: failed to close '/thesis/Thesis_Work/Data/RemoteData/FireHistory/cyclone-wildfire-flood-earthquake-database/Cyclone_Wildfire_Flood_Earthquake_Database/Cyclone_Wildfire_Flood_Earthquake_Database/Earthquake/737.jpg': Input/output error\n",
      "cp: failed to close '/thesis/Thesis_Work/Data/RemoteData/FireHistory/cyclone-wildfire-flood-earthquake-database/Cyclone_Wildfire_Flood_Earthquake_Database/Cyclone_Wildfire_Flood_Earthquake_Database/Earthquake/738.jpg': Input/output error\n",
      "cp: failed to close '/thesis/Thesis_Work/Data/RemoteData/FireHistory/cyclone-wildfire-flood-earthquake-database/Cyclone_Wildfire_Flood_Earthquake_Database/Cyclone_Wildfire_Flood_Earthquake_Database/Earthquake/832.jpg': Input/output error\n",
      "cp: failed to close '/thesis/Thesis_Work/Data/RemoteData/FireHistory/cyclone-wildfire-flood-earthquake-database/Cyclone_Wildfire_Flood_Earthquake_Database/Cyclone_Wildfire_Flood_Earthquake_Database/Earthquake/849.jpg': Input/output error\n",
      "cp: failed to close '/thesis/Thesis_Work/Data/RemoteData/FireHistory/cyclone-wildfire-flood-earthquake-database/Cyclone_Wildfire_Flood_Earthquake_Database/Cyclone_Wildfire_Flood_Earthquake_Database/Earthquake/882.jpg': Input/output error\n",
      "cp: failed to close '/thesis/Thesis_Work/Data/RemoteData/FireHistory/cyclone-wildfire-flood-earthquake-database/Cyclone_Wildfire_Flood_Earthquake_Database/Cyclone_Wildfire_Flood_Earthquake_Database/Earthquake/897.jpg': Input/output error\n",
      "cp: failed to close '/thesis/Thesis_Work/Data/RemoteData/FireHistory/cyclone-wildfire-flood-earthquake-database/Cyclone_Wildfire_Flood_Earthquake_Database/Cyclone_Wildfire_Flood_Earthquake_Database/Earthquake/903.jpg': Input/output error\n",
      "cp: failed to close '/thesis/Thesis_Work/Data/RemoteData/FireHistory/cyclone-wildfire-flood-earthquake-database/Cyclone_Wildfire_Flood_Earthquake_Database/Cyclone_Wildfire_Flood_Earthquake_Database/Earthquake/910.jpg': Input/output error\n",
      "cp: failed to close '/thesis/Thesis_Work/Data/RemoteData/FireHistory/cyclone-wildfire-flood-earthquake-database/Cyclone_Wildfire_Flood_Earthquake_Database/Cyclone_Wildfire_Flood_Earthquake_Database/Earthquake/96.jpg': Input/output error\n",
      "cp: failed to close '/thesis/Thesis_Work/Data/RemoteData/FireHistory/cyclone-wildfire-flood-earthquake-database/Cyclone_Wildfire_Flood_Earthquake_Database/Cyclone_Wildfire_Flood_Earthquake_Database/Earthquake/99.jpg': Input/output error\n",
      "cp: failed to close '/thesis/Thesis_Work/Data/RemoteData/FireHistory/cyclone-wildfire-flood-earthquake-database/Cyclone_Wildfire_Flood_Earthquake_Database/Cyclone_Wildfire_Flood_Earthquake_Database/Flood/1005.jpg': Input/output error\n",
      "cp: failed to close '/thesis/Thesis_Work/Data/RemoteData/FireHistory/cyclone-wildfire-flood-earthquake-database/Cyclone_Wildfire_Flood_Earthquake_Database/Cyclone_Wildfire_Flood_Earthquake_Database/Flood/1037.jpg': Input/output error\n",
      "cp: failed to close '/thesis/Thesis_Work/Data/RemoteData/FireHistory/cyclone-wildfire-flood-earthquake-database/Cyclone_Wildfire_Flood_Earthquake_Database/Cyclone_Wildfire_Flood_Earthquake_Database/Flood/13.jpg': Input/output error\n",
      "cp: failed to close '/thesis/Thesis_Work/Data/RemoteData/FireHistory/cyclone-wildfire-flood-earthquake-database/Cyclone_Wildfire_Flood_Earthquake_Database/Cyclone_Wildfire_Flood_Earthquake_Database/Flood/144.jpg': Input/output error\n",
      "cp: failed to close '/thesis/Thesis_Work/Data/RemoteData/FireHistory/cyclone-wildfire-flood-earthquake-database/Cyclone_Wildfire_Flood_Earthquake_Database/Cyclone_Wildfire_Flood_Earthquake_Database/Flood/238.jpg': Input/output error\n",
      "cp: failed to close '/thesis/Thesis_Work/Data/RemoteData/FireHistory/cyclone-wildfire-flood-earthquake-database/Cyclone_Wildfire_Flood_Earthquake_Database/Cyclone_Wildfire_Flood_Earthquake_Database/Flood/252.jpg': Input/output error\n",
      "cp: failed to close '/thesis/Thesis_Work/Data/RemoteData/FireHistory/cyclone-wildfire-flood-earthquake-database/Cyclone_Wildfire_Flood_Earthquake_Database/Cyclone_Wildfire_Flood_Earthquake_Database/Flood/275.jpg': Input/output error\n",
      "cp: failed to close '/thesis/Thesis_Work/Data/RemoteData/FireHistory/cyclone-wildfire-flood-earthquake-database/Cyclone_Wildfire_Flood_Earthquake_Database/Cyclone_Wildfire_Flood_Earthquake_Database/Flood/290.jpg': Input/output error\n",
      "cp: failed to close '/thesis/Thesis_Work/Data/RemoteData/FireHistory/cyclone-wildfire-flood-earthquake-database/Cyclone_Wildfire_Flood_Earthquake_Database/Cyclone_Wildfire_Flood_Earthquake_Database/Flood/30.jpg': Input/output error\n",
      "cp: failed to close '/thesis/Thesis_Work/Data/RemoteData/FireHistory/cyclone-wildfire-flood-earthquake-database/Cyclone_Wildfire_Flood_Earthquake_Database/Cyclone_Wildfire_Flood_Earthquake_Database/Flood/406.jpg': Input/output error\n",
      "cp: failed to close '/thesis/Thesis_Work/Data/RemoteData/FireHistory/cyclone-wildfire-flood-earthquake-database/Cyclone_Wildfire_Flood_Earthquake_Database/Cyclone_Wildfire_Flood_Earthquake_Database/Flood/44.jpg': Input/output error\n",
      "cp: failed to close '/thesis/Thesis_Work/Data/RemoteData/FireHistory/cyclone-wildfire-flood-earthquake-database/Cyclone_Wildfire_Flood_Earthquake_Database/Cyclone_Wildfire_Flood_Earthquake_Database/Flood/458.jpg': Input/output error\n",
      "cp: failed to close '/thesis/Thesis_Work/Data/RemoteData/FireHistory/cyclone-wildfire-flood-earthquake-database/Cyclone_Wildfire_Flood_Earthquake_Database/Cyclone_Wildfire_Flood_Earthquake_Database/Flood/469.jpg': Input/output error\n",
      "cp: failed to close '/thesis/Thesis_Work/Data/RemoteData/FireHistory/cyclone-wildfire-flood-earthquake-database/Cyclone_Wildfire_Flood_Earthquake_Database/Cyclone_Wildfire_Flood_Earthquake_Database/Flood/501.jpg': Input/output error\n",
      "cp: failed to close '/thesis/Thesis_Work/Data/RemoteData/FireHistory/cyclone-wildfire-flood-earthquake-database/Cyclone_Wildfire_Flood_Earthquake_Database/Cyclone_Wildfire_Flood_Earthquake_Database/Flood/542.jpg': Input/output error\n",
      "cp: failed to close '/thesis/Thesis_Work/Data/RemoteData/FireHistory/cyclone-wildfire-flood-earthquake-database/Cyclone_Wildfire_Flood_Earthquake_Database/Cyclone_Wildfire_Flood_Earthquake_Database/Flood/58.jpg': Input/output error\n",
      "cp: failed to close '/thesis/Thesis_Work/Data/RemoteData/FireHistory/cyclone-wildfire-flood-earthquake-database/Cyclone_Wildfire_Flood_Earthquake_Database/Cyclone_Wildfire_Flood_Earthquake_Database/Flood/64.jpg': Input/output error\n",
      "cp: failed to close '/thesis/Thesis_Work/Data/RemoteData/FireHistory/cyclone-wildfire-flood-earthquake-database/Cyclone_Wildfire_Flood_Earthquake_Database/Cyclone_Wildfire_Flood_Earthquake_Database/Flood/703.jpg': Input/output error\n",
      "cp: failed to close '/thesis/Thesis_Work/Data/RemoteData/FireHistory/cyclone-wildfire-flood-earthquake-database/Cyclone_Wildfire_Flood_Earthquake_Database/Cyclone_Wildfire_Flood_Earthquake_Database/Flood/74.jpg': Input/output error\n",
      "cp: failed to close '/thesis/Thesis_Work/Data/RemoteData/FireHistory/cyclone-wildfire-flood-earthquake-database/Cyclone_Wildfire_Flood_Earthquake_Database/Cyclone_Wildfire_Flood_Earthquake_Database/Flood/788.jpg': Input/output error\n",
      "cp: failed to close '/thesis/Thesis_Work/Data/RemoteData/FireHistory/cyclone-wildfire-flood-earthquake-database/Cyclone_Wildfire_Flood_Earthquake_Database/Cyclone_Wildfire_Flood_Earthquake_Database/Flood/806.jpg': Input/output error\n",
      "cp: failed to close '/thesis/Thesis_Work/Data/RemoteData/FireHistory/cyclone-wildfire-flood-earthquake-database/Cyclone_Wildfire_Flood_Earthquake_Database/Cyclone_Wildfire_Flood_Earthquake_Database/Flood/832.jpg': Input/output error\n",
      "cp: failed to close '/thesis/Thesis_Work/Data/RemoteData/FireHistory/cyclone-wildfire-flood-earthquake-database/Cyclone_Wildfire_Flood_Earthquake_Database/Cyclone_Wildfire_Flood_Earthquake_Database/Flood/848.jpg': Input/output error\n",
      "cp: failed to close '/thesis/Thesis_Work/Data/RemoteData/FireHistory/cyclone-wildfire-flood-earthquake-database/Cyclone_Wildfire_Flood_Earthquake_Database/Cyclone_Wildfire_Flood_Earthquake_Database/Flood/910.jpg': Input/output error\n",
      "cp: failed to close '/thesis/Thesis_Work/Data/RemoteData/FireHistory/cyclone-wildfire-flood-earthquake-database/Cyclone_Wildfire_Flood_Earthquake_Database/Cyclone_Wildfire_Flood_Earthquake_Database/Flood/93.jpg': Input/output error\n",
      "cp: failed to close '/thesis/Thesis_Work/Data/RemoteData/FireHistory/cyclone-wildfire-flood-earthquake-database/Cyclone_Wildfire_Flood_Earthquake_Database/Cyclone_Wildfire_Flood_Earthquake_Database/Flood/949.jpg': Input/output error\n",
      "cp: failed to close '/thesis/Thesis_Work/Data/RemoteData/FireHistory/cyclone-wildfire-flood-earthquake-database/Cyclone_Wildfire_Flood_Earthquake_Database/Cyclone_Wildfire_Flood_Earthquake_Database/Flood/983.jpg': Input/output error\n",
      "cp: failed to close '/thesis/Thesis_Work/Data/RemoteData/FireHistory/cyclone-wildfire-flood-earthquake-database/Cyclone_Wildfire_Flood_Earthquake_Database/Cyclone_Wildfire_Flood_Earthquake_Database/Flood/998.jpg': Input/output error\n",
      "cp: failed to close '/thesis/Thesis_Work/Data/RemoteData/FireHistory/cyclone-wildfire-flood-earthquake-database/Cyclone_Wildfire_Flood_Earthquake_Database/Cyclone_Wildfire_Flood_Earthquake_Database/Wildfire/1003.jpg': Input/output error\n",
      "cp: failed to close '/thesis/Thesis_Work/Data/RemoteData/FireHistory/cyclone-wildfire-flood-earthquake-database/Cyclone_Wildfire_Flood_Earthquake_Database/Cyclone_Wildfire_Flood_Earthquake_Database/Wildfire/1013.jpg': Input/output error\n",
      "cp: failed to close '/thesis/Thesis_Work/Data/RemoteData/FireHistory/cyclone-wildfire-flood-earthquake-database/Cyclone_Wildfire_Flood_Earthquake_Database/Cyclone_Wildfire_Flood_Earthquake_Database/Wildfire/1039.jpg': Input/output error\n",
      "cp: failed to close '/thesis/Thesis_Work/Data/RemoteData/FireHistory/cyclone-wildfire-flood-earthquake-database/Cyclone_Wildfire_Flood_Earthquake_Database/Cyclone_Wildfire_Flood_Earthquake_Database/Wildfire/1055.jpg': Input/output error\n",
      "cp: failed to close '/thesis/Thesis_Work/Data/RemoteData/FireHistory/cyclone-wildfire-flood-earthquake-database/Cyclone_Wildfire_Flood_Earthquake_Database/Cyclone_Wildfire_Flood_Earthquake_Database/Wildfire/1074.jpg': Input/output error\n",
      "cp: failed to close '/thesis/Thesis_Work/Data/RemoteData/FireHistory/cyclone-wildfire-flood-earthquake-database/Cyclone_Wildfire_Flood_Earthquake_Database/Cyclone_Wildfire_Flood_Earthquake_Database/Wildfire/120.jpg': Input/output error\n",
      "cp: failed to close '/thesis/Thesis_Work/Data/RemoteData/FireHistory/cyclone-wildfire-flood-earthquake-database/Cyclone_Wildfire_Flood_Earthquake_Database/Cyclone_Wildfire_Flood_Earthquake_Database/Wildfire/174.jpg': Input/output error\n",
      "cp: failed to close '/thesis/Thesis_Work/Data/RemoteData/FireHistory/cyclone-wildfire-flood-earthquake-database/Cyclone_Wildfire_Flood_Earthquake_Database/Cyclone_Wildfire_Flood_Earthquake_Database/Wildfire/191.jpg': Input/output error\n",
      "cp: failed to close '/thesis/Thesis_Work/Data/RemoteData/FireHistory/cyclone-wildfire-flood-earthquake-database/Cyclone_Wildfire_Flood_Earthquake_Database/Cyclone_Wildfire_Flood_Earthquake_Database/Wildfire/213.jpg': Input/output error\n",
      "cp: failed to close '/thesis/Thesis_Work/Data/RemoteData/FireHistory/cyclone-wildfire-flood-earthquake-database/Cyclone_Wildfire_Flood_Earthquake_Database/Cyclone_Wildfire_Flood_Earthquake_Database/Wildfire/25.jpg': Input/output error\n",
      "cp: failed to close '/thesis/Thesis_Work/Data/RemoteData/FireHistory/cyclone-wildfire-flood-earthquake-database/Cyclone_Wildfire_Flood_Earthquake_Database/Cyclone_Wildfire_Flood_Earthquake_Database/Wildfire/30.jpg': Input/output error\n",
      "cp: failed to close '/thesis/Thesis_Work/Data/RemoteData/FireHistory/cyclone-wildfire-flood-earthquake-database/Cyclone_Wildfire_Flood_Earthquake_Database/Cyclone_Wildfire_Flood_Earthquake_Database/Wildfire/337.jpg': Input/output error\n",
      "cp: failed to close '/thesis/Thesis_Work/Data/RemoteData/FireHistory/cyclone-wildfire-flood-earthquake-database/Cyclone_Wildfire_Flood_Earthquake_Database/Cyclone_Wildfire_Flood_Earthquake_Database/Wildfire/383.jpg': Input/output error\n",
      "cp: failed to close '/thesis/Thesis_Work/Data/RemoteData/FireHistory/cyclone-wildfire-flood-earthquake-database/Cyclone_Wildfire_Flood_Earthquake_Database/Cyclone_Wildfire_Flood_Earthquake_Database/Wildfire/386.jpg': Input/output error\n",
      "cp: failed to close '/thesis/Thesis_Work/Data/RemoteData/FireHistory/cyclone-wildfire-flood-earthquake-database/Cyclone_Wildfire_Flood_Earthquake_Database/Cyclone_Wildfire_Flood_Earthquake_Database/Wildfire/401.jpg': Input/output error\n",
      "cp: failed to close '/thesis/Thesis_Work/Data/RemoteData/FireHistory/cyclone-wildfire-flood-earthquake-database/Cyclone_Wildfire_Flood_Earthquake_Database/Cyclone_Wildfire_Flood_Earthquake_Database/Wildfire/466.jpg': Input/output error\n",
      "cp: failed to close '/thesis/Thesis_Work/Data/RemoteData/FireHistory/cyclone-wildfire-flood-earthquake-database/Cyclone_Wildfire_Flood_Earthquake_Database/Cyclone_Wildfire_Flood_Earthquake_Database/Wildfire/529.jpg': Input/output error\n",
      "cp: failed to close '/thesis/Thesis_Work/Data/RemoteData/FireHistory/cyclone-wildfire-flood-earthquake-database/Cyclone_Wildfire_Flood_Earthquake_Database/Cyclone_Wildfire_Flood_Earthquake_Database/Wildfire/569.jpg': Input/output error\n",
      "cp: failed to close '/thesis/Thesis_Work/Data/RemoteData/FireHistory/cyclone-wildfire-flood-earthquake-database/Cyclone_Wildfire_Flood_Earthquake_Database/Cyclone_Wildfire_Flood_Earthquake_Database/Wildfire/611.jpg': Input/output error\n",
      "cp: failed to close '/thesis/Thesis_Work/Data/RemoteData/FireHistory/cyclone-wildfire-flood-earthquake-database/Cyclone_Wildfire_Flood_Earthquake_Database/Cyclone_Wildfire_Flood_Earthquake_Database/Wildfire/70.jpg': Input/output error\n",
      "cp: failed to close '/thesis/Thesis_Work/Data/RemoteData/FireHistory/cyclone-wildfire-flood-earthquake-database/Cyclone_Wildfire_Flood_Earthquake_Database/Cyclone_Wildfire_Flood_Earthquake_Database/Wildfire/805.jpg': Input/output error\n",
      "cp: failed to close '/thesis/Thesis_Work/Data/RemoteData/FireHistory/cyclone-wildfire-flood-earthquake-database/Cyclone_Wildfire_Flood_Earthquake_Database/Cyclone_Wildfire_Flood_Earthquake_Database/Wildfire/820.jpg': Input/output error\n",
      "cp: failed to close '/thesis/Thesis_Work/Data/RemoteData/FireHistory/cyclone-wildfire-flood-earthquake-database/Cyclone_Wildfire_Flood_Earthquake_Database/Cyclone_Wildfire_Flood_Earthquake_Database/Wildfire/885.jpg': Input/output error\n",
      "cp: failed to close '/thesis/Thesis_Work/Data/RemoteData/FireHistory/cyclone-wildfire-flood-earthquake-database/Cyclone_Wildfire_Flood_Earthquake_Database/Cyclone_Wildfire_Flood_Earthquake_Database/Wildfire/962.jpg': Input/output error\n",
      "Downloading california-wildfire-dataset-from-2000-2021.zip to ./california-wildfire-dataset-from-2000-2021\n"
     ]
    },
    {
     "name": "stderr",
     "output_type": "stream",
     "text": [
      "100%|██████████████████████████████████████████████████████████████████████████████████████████████████████████████████████████████████████████████████████████████| 177M/177M [00:08<00:00, 23.0MB/s]\n"
     ]
    },
    {
     "name": "stdout",
     "output_type": "stream",
     "text": [
      "\n",
      "cp: failed to close '/thesis/Thesis_Work/Data/RemoteData/FireHistory/california-wildfire-dataset-from-2000-2021/ca_daily_fire_2000_03252022.csv': Input/output error\n",
      "Downloading wildfire-photos.zip to ./wildfire-photos\n"
     ]
    },
    {
     "name": "stderr",
     "output_type": "stream",
     "text": [
      "100%|████████████████████████████████████████████████████████████████████████████████████████████████████████████████████████████████████████████████████████████| 3.89G/3.89G [02:42<00:00, 25.6MB/s]\n"
     ]
    },
    {
     "name": "stdout",
     "output_type": "stream",
     "text": [
      "\n",
      "cp: failed to close '/thesis/Thesis_Work/Data/RemoteData/FireHistory/wildfire-photos/data.zip': Input/output error\n",
      "cp: failed to close '/thesis/Thesis_Work/Data/RemoteData/FireHistory/wildfire-photos/data/non-wildfire/11540.jpg': Input/output error\n",
      "cp: failed to close '/thesis/Thesis_Work/Data/RemoteData/FireHistory/wildfire-photos/data/non-wildfire/1157628_1280x720.jpg': Input/output error\n",
      "cp: failed to close '/thesis/Thesis_Work/Data/RemoteData/FireHistory/wildfire-photos/data/non-wildfire/1200px-Posts_Brook_from_Norvin_Green.jpg': Input/output error\n",
      "cp: failed to close '/thesis/Thesis_Work/Data/RemoteData/FireHistory/wildfire-photos/data/non-wildfire/150527-W-Overlook-Fire-895.jpg': Input/output error\n",
      "cp: failed to close '/thesis/Thesis_Work/Data/RemoteData/FireHistory/wildfire-photos/data/non-wildfire/16.jpg': Input/output error\n",
      "cp: failed to close '/thesis/Thesis_Work/Data/RemoteData/FireHistory/wildfire-photos/data/non-wildfire/1983712_orig.jpg': Input/output error\n",
      "cp: failed to close '/thesis/Thesis_Work/Data/RemoteData/FireHistory/wildfire-photos/data/non-wildfire/351362.jpg': Input/output error\n",
      "cp: failed to close '/thesis/Thesis_Work/Data/RemoteData/FireHistory/wildfire-photos/data/non-wildfire/492837.jpg': Input/output error\n",
      "cp: failed to close '/thesis/Thesis_Work/Data/RemoteData/FireHistory/wildfire-photos/data/non-wildfire/4K-Fire-Image.jpg': Input/output error\n",
      "cp: failed to close '/thesis/Thesis_Work/Data/RemoteData/FireHistory/wildfire-photos/data/non-wildfire/537081-best-green-forest-background-.jpg': Input/output error\n",
      "cp: failed to close '/thesis/Thesis_Work/Data/RemoteData/FireHistory/wildfire-photos/data/non-wildfire/600111.jpg': Input/output error\n",
      "cp: failed to close '/thesis/Thesis_Work/Data/RemoteData/FireHistory/wildfire-photos/data/non-wildfire/719842-download-fire-lion-wallpapers.jpg': Input/output error\n",
      "cp: failed to close '/thesis/Thesis_Work/Data/RemoteData/FireHistory/wildfire-photos/data/non-wildfire/AdobeStock_276219341.jpeg': Input/output error\n",
      "cp: failed to close '/thesis/Thesis_Work/Data/RemoteData/FireHistory/wildfire-photos/data/non-wildfire/Bamboo+Forest+Wallpapers+5.jpg': Input/output error\n",
      "cp: failed to close '/thesis/Thesis_Work/Data/RemoteData/FireHistory/wildfire-photos/data/non-wildfire/Bamboo+Forest+Wallpapers+6.jpg': Input/output error\n",
      "cp: failed to close '/thesis/Thesis_Work/Data/RemoteData/FireHistory/wildfire-photos/data/non-wildfire/Enchanted-Forest.jpg': Input/output error\n",
      "cp: failed to close '/thesis/Thesis_Work/Data/RemoteData/FireHistory/wildfire-photos/data/non-wildfire/Forest-Ecosystem-PPT-Template_1.jpg': Input/output error\n",
      "cp: failed to close '/thesis/Thesis_Work/Data/RemoteData/FireHistory/wildfire-photos/data/non-wildfire/HarleysOaks-med-res-slider.jpg': Input/output error\n",
      "cp: failed to close '/thesis/Thesis_Work/Data/RemoteData/FireHistory/wildfire-photos/data/non-wildfire/Landscape_of_Arches_National_Park%2C.jpg': Input/output error\n",
      "cp: failed to close '/thesis/Thesis_Work/Data/RemoteData/FireHistory/wildfire-photos/data/non-wildfire/Outdoor+Anime+Landscape+44.jpg': Input/output error\n",
      "cp: failed to close '/thesis/Thesis_Work/Data/RemoteData/FireHistory/wildfire-photos/data/non-wildfire/a000049.jpg': Input/output error\n",
      "cp: failed to close '/thesis/Thesis_Work/Data/RemoteData/FireHistory/wildfire-photos/data/non-wildfire/aokigahara_forest.jpg': Input/output error\n",
      "cp: failed to close '/thesis/Thesis_Work/Data/RemoteData/FireHistory/wildfire-photos/data/non-wildfire/building+fire.jpg': Input/output error\n",
      "cp: failed to close '/thesis/Thesis_Work/Data/RemoteData/FireHistory/wildfire-photos/data/non-wildfire/burn-flame-fire-vector-background-md.jpg': Input/output error\n",
      "cp: failed to close '/thesis/Thesis_Work/Data/RemoteData/FireHistory/wildfire-photos/data/non-wildfire/dangers-of-being-a-fireman.jpg': Input/output error\n",
      "cp: failed to close '/thesis/Thesis_Work/Data/RemoteData/FireHistory/wildfire-photos/data/non-wildfire/fairy-tale-forest-baydar-valley-crim.jpg': Input/output error\n",
      "cp: failed to close '/thesis/Thesis_Work/Data/RemoteData/FireHistory/wildfire-photos/data/non-wildfire/fence-at-sunset.jpg': Input/output error\n",
      "cp: failed to close '/thesis/Thesis_Work/Data/RemoteData/FireHistory/wildfire-photos/data/non-wildfire/fire-art-wallpaper-10.jpg': Input/output error\n",
      "cp: failed to close '/thesis/Thesis_Work/Data/RemoteData/FireHistory/wildfire-photos/data/non-wildfire/fire-free-clipart-1.jpg': Input/output error\n",
      "cp: failed to close '/thesis/Thesis_Work/Data/RemoteData/FireHistory/wildfire-photos/data/non-wildfire/fire-station-buildings-03.jpg': Input/output error\n",
      "cp: failed to close '/thesis/Thesis_Work/Data/RemoteData/FireHistory/wildfire-photos/data/non-wildfire/fire_PNG6037.png': Input/output error\n",
      "cp: failed to close '/thesis/Thesis_Work/Data/RemoteData/FireHistory/wildfire-photos/data/non-wildfire/fire_wolf_commission_by_shadetiger-d.png': Input/output error\n",
      "cp: failed to close '/thesis/Thesis_Work/Data/RemoteData/FireHistory/wildfire-photos/data/non-wildfire/flames-of-the-fire.jpg': Input/output error\n",
      "cp: failed to close '/thesis/Thesis_Work/Data/RemoteData/FireHistory/wildfire-photos/data/non-wildfire/forest-background-8702-9030-hd-wallp.jpg': Input/output error\n",
      "cp: failed to close '/thesis/Thesis_Work/Data/RemoteData/FireHistory/wildfire-photos/data/non-wildfire/free-fire-battlegrounds_banner.jpg': Input/output error\n",
      "cp: failed to close '/thesis/Thesis_Work/Data/RemoteData/FireHistory/wildfire-photos/data/non-wildfire/image.jpg': Input/output error\n",
      "cp: failed to close '/thesis/Thesis_Work/Data/RemoteData/FireHistory/wildfire-photos/data/non-wildfire/nexus2cee_Fire-7.png': Input/output error\n",
      "cp: failed to close '/thesis/Thesis_Work/Data/RemoteData/FireHistory/wildfire-photos/data/non-wildfire/pexels-photo-240040.jpeg': Input/output error\n",
      "cp: failed to close '/thesis/Thesis_Work/Data/RemoteData/FireHistory/wildfire-photos/data/non-wildfire/stock-forest-wood-england-UK.jpg': Input/output error\n",
      "cp: failed to close '/thesis/Thesis_Work/Data/RemoteData/FireHistory/wildfire-photos/data/non-wildfire/utah_late_afternoon_hdr.jpg': Input/output error\n",
      "cp: failed to close '/thesis/Thesis_Work/Data/RemoteData/FireHistory/wildfire-photos/data/wildfire/1200-51379448-forest-fire.jpg': Input/output error\n",
      "cp: failed to close '/thesis/Thesis_Work/Data/RemoteData/FireHistory/wildfire-photos/data/wildfire/12120.jpg': Input/output error\n",
      "cp: failed to close '/thesis/Thesis_Work/Data/RemoteData/FireHistory/wildfire-photos/data/wildfire/14445116_G.jpeg': Input/output error\n",
      "cp: failed to close '/thesis/Thesis_Work/Data/RemoteData/FireHistory/wildfire-photos/data/wildfire/710937main_climate-fire-lg.jpg': Input/output error\n",
      "cp: failed to close '/thesis/Thesis_Work/Data/RemoteData/FireHistory/wildfire-photos/data/wildfire/First-Cr-Fire-8-27-2015-Kari-Greer-s.jpg': Input/output error\n",
      "cp: failed to close '/thesis/Thesis_Work/Data/RemoteData/FireHistory/wildfire-photos/data/wildfire/KRT-US-NEWS-COLORADO-FIRES-17-GT.jpg': Input/output error\n",
      "cp: failed to close '/thesis/Thesis_Work/Data/RemoteData/FireHistory/wildfire-photos/data/wildfire/REU-USA-FIRE_CALIFORNIA_006.jpg': Input/output error\n",
      "cp: failed to close '/thesis/Thesis_Work/Data/RemoteData/FireHistory/wildfire-photos/data/wildfire/Zaca3.jpg': Input/output error\n",
      "cp: failed to close '/thesis/Thesis_Work/Data/RemoteData/FireHistory/wildfire-photos/data/wildfire/aptopix_california_wildfires_2467848.jpg': Input/output error\n",
      "cp: failed to close '/thesis/Thesis_Work/Data/RemoteData/FireHistory/wildfire-photos/data/wildfire/calentamiento-global-forest-fire.jpg': Input/output error\n",
      "cp: failed to close '/thesis/Thesis_Work/Data/RemoteData/FireHistory/wildfire-photos/data/wildfire/columbia-gorge-4612x2595-forest-fire.jpg': Input/output error\n",
      "cp: failed to close '/thesis/Thesis_Work/Data/RemoteData/FireHistory/wildfire-photos/data/wildfire/dscf0819.jpg': Input/output error\n",
      "cp: failed to close '/thesis/Thesis_Work/Data/RemoteData/FireHistory/wildfire-photos/data/wildfire/forest-fire-sechelt-sunshine-coast-b.jpg': Input/output error\n",
      "cp: failed to close '/thesis/Thesis_Work/Data/RemoteData/FireHistory/wildfire-photos/data/wildfire/forest_fire-2.jpg': Input/output error\n",
      "cp: failed to close '/thesis/Thesis_Work/Data/RemoteData/FireHistory/wildfire-photos/data/wildfire/wildfires_2.jpg': Input/output error\n",
      "cp: failed to close '/thesis/Thesis_Work/Data/RemoteData/FireHistory/wildfire-photos/non-wildfire/11517.jpg': Input/output error\n",
      "cp: failed to close '/thesis/Thesis_Work/Data/RemoteData/FireHistory/wildfire-photos/non-wildfire/1200px-Laurel_forest.jpg': Input/output error\n",
      "cp: failed to close '/thesis/Thesis_Work/Data/RemoteData/FireHistory/wildfire-photos/non-wildfire/143-4302_img.jpg': Input/output error\n",
      "cp: failed to close '/thesis/Thesis_Work/Data/RemoteData/FireHistory/wildfire-photos/non-wildfire/294.ngsversion.1488483019115.adapt.1.jpg': Input/output error\n",
      "cp: failed to close '/thesis/Thesis_Work/Data/RemoteData/FireHistory/wildfire-photos/non-wildfire/418256-free-download-fire-wallpaper-.jpg': Input/output error\n",
      "cp: failed to close '/thesis/Thesis_Work/Data/RemoteData/FireHistory/wildfire-photos/non-wildfire/58a1e12fe33a543010fac27c.png': Input/output error\n",
      "cp: failed to close '/thesis/Thesis_Work/Data/RemoteData/FireHistory/wildfire-photos/non-wildfire/7_wide.jpg': Input/output error\n",
      "cp: failed to close '/thesis/Thesis_Work/Data/RemoteData/FireHistory/wildfire-photos/non-wildfire/92728-050-92E757D6.jpg': Input/output error\n",
      "cp: failed to close '/thesis/Thesis_Work/Data/RemoteData/FireHistory/wildfire-photos/non-wildfire/Black.Forest.original.14015.jpg': Input/output error\n",
      "cp: failed to close '/thesis/Thesis_Work/Data/RemoteData/FireHistory/wildfire-photos/non-wildfire/California-Wallpaper-19.jpg': Input/output error\n",
      "cp: failed to close '/thesis/Thesis_Work/Data/RemoteData/FireHistory/wildfire-photos/non-wildfire/Deutsche_Bank_Building_fire_8-18-07_-3.jpg': Input/output error\n",
      "cp: failed to close '/thesis/Thesis_Work/Data/RemoteData/FireHistory/wildfire-photos/non-wildfire/Fantasy-Forest-download-images-4k.jpg': Input/output error\n",
      "cp: failed to close '/thesis/Thesis_Work/Data/RemoteData/FireHistory/wildfire-photos/non-wildfire/Fire+Wallpapers+%25289%2529.jpg': Input/output error\n",
      "cp: failed to close '/thesis/Thesis_Work/Data/RemoteData/FireHistory/wildfire-photos/non-wildfire/Fire-blurred-background-abstract-wal.jpg': Input/output error\n",
      "cp: failed to close '/thesis/Thesis_Work/Data/RemoteData/FireHistory/wildfire-photos/non-wildfire/Forest+Desktop+Wallpapers+(2).jpg': Input/output error\n",
      "cp: failed to close '/thesis/Thesis_Work/Data/RemoteData/FireHistory/wildfire-photos/non-wildfire/Fotolia_118664201_Subscription_Month.jpg': Input/output error\n",
      "cp: failed to close '/thesis/Thesis_Work/Data/RemoteData/FireHistory/wildfire-photos/non-wildfire/Holbrook-Fitz-John-Porter-Building-F.jpg': Input/output error\n",
      "cp: failed to close '/thesis/Thesis_Work/Data/RemoteData/FireHistory/wildfire-photos/non-wildfire/IMG_5091-1100x825.jpg': Input/output error\n",
      "cp: failed to close '/thesis/Thesis_Work/Data/RemoteData/FireHistory/wildfire-photos/non-wildfire/Lamborghini-Sesto-Elemento-Side-Fire.jpg': Input/output error\n",
      "cp: failed to close '/thesis/Thesis_Work/Data/RemoteData/FireHistory/wildfire-photos/non-wildfire/a-major-fire-at-lotus-business-park-.jpg': Input/output error\n",
      "cp: failed to close '/thesis/Thesis_Work/Data/RemoteData/FireHistory/wildfire-photos/non-wildfire/annapolis-house-fire.jpg': Input/output error\n",
      "cp: failed to close '/thesis/Thesis_Work/Data/RemoteData/FireHistory/wildfire-photos/non-wildfire/bcb3f057d4dd44657dd011426c0278d7_scr.jpeg': Input/output error\n",
      "cp: failed to close '/thesis/Thesis_Work/Data/RemoteData/FireHistory/wildfire-photos/non-wildfire/countdown-animation-from-3-to-0-with.png': Input/output error\n",
      "cp: failed to close '/thesis/Thesis_Work/Data/RemoteData/FireHistory/wildfire-photos/non-wildfire/dsc_0571-1.jpg': Input/output error\n",
      "cp: failed to close '/thesis/Thesis_Work/Data/RemoteData/FireHistory/wildfire-photos/non-wildfire/fire_lion_by_motoraton28-d499jda.jpg': Input/output error\n",
      "cp: failed to close '/thesis/Thesis_Work/Data/RemoteData/FireHistory/wildfire-photos/non-wildfire/flames-82087438-59ff1d2bb39d03001990.jpg': Input/output error\n",
      "cp: failed to close '/thesis/Thesis_Work/Data/RemoteData/FireHistory/wildfire-photos/non-wildfire/forest-switzerland.jpg': Input/output error\n",
      "cp: failed to close '/thesis/Thesis_Work/Data/RemoteData/FireHistory/wildfire-photos/non-wildfire/hoh-rain-forest-2.jpg': Input/output error\n",
      "cp: failed to close '/thesis/Thesis_Work/Data/RemoteData/FireHistory/wildfire-photos/non-wildfire/jer5-wood-fire.jpg': Input/output error\n",
      "cp: failed to close '/thesis/Thesis_Work/Data/RemoteData/FireHistory/wildfire-photos/wildfire/06ac801d-a270-4515-ab12-6b83f3b22c44.jpg': Input/output error\n",
      "cp: failed to close '/thesis/Thesis_Work/Data/RemoteData/FireHistory/wildfire-photos/wildfire/17Portugal7-superJumbo.jpg': Input/output error\n",
      "cp: failed to close '/thesis/Thesis_Work/Data/RemoteData/FireHistory/wildfire-photos/wildfire/188373568.jpg': Input/output error\n",
      "cp: failed to close '/thesis/Thesis_Work/Data/RemoteData/FireHistory/wildfire-photos/wildfire/201703_Pinal_5160gg-1200x800.jpg': Input/output error\n",
      "cp: failed to close '/thesis/Thesis_Work/Data/RemoteData/FireHistory/wildfire-photos/wildfire/636480532630761311-ventura-county-fi.jpg': Input/output error\n",
      "cp: failed to close '/thesis/Thesis_Work/Data/RemoteData/FireHistory/wildfire-photos/wildfire/900-508473117-forest-fire.jpg': Input/output error\n",
      "cp: failed to close '/thesis/Thesis_Work/Data/RemoteData/FireHistory/wildfire-photos/wildfire/First-Cr-Fire-8-27-2015-Kari-Greer-s.jpg': Input/output error\n",
      "cp: failed to close '/thesis/Thesis_Work/Data/RemoteData/FireHistory/wildfire-photos/wildfire/Flames-Mountain.jpg': Input/output error\n",
      "cp: failed to close '/thesis/Thesis_Work/Data/RemoteData/FireHistory/wildfire-photos/wildfire/Forest-Fire-Burning-Wallpaper-Comput.jpg': Input/output error\n",
      "cp: failed to close '/thesis/Thesis_Work/Data/RemoteData/FireHistory/wildfire-photos/wildfire/IMG_0945newsgood-1200x800.jpg': Input/output error\n",
      "cp: failed to close '/thesis/Thesis_Work/Data/RemoteData/FireHistory/wildfire-photos/wildfire/TREX_0_Night_burning_IMG_1290.jpg': Input/output error\n",
      "cp: failed to close '/thesis/Thesis_Work/Data/RemoteData/FireHistory/wildfire-photos/wildfire/bc-wildfire.jpg': Input/output error\n",
      "cp: failed to close '/thesis/Thesis_Work/Data/RemoteData/FireHistory/wildfire-photos/wildfire/california-wildfire-wrightwood-ca.jpg': Input/output error\n",
      "cp: failed to close '/thesis/Thesis_Work/Data/RemoteData/FireHistory/wildfire-photos/wildfire/fire-day-2-0004.jpg': Input/output error\n",
      "cp: failed to close '/thesis/Thesis_Work/Data/RemoteData/FireHistory/wildfire-photos/wildfire/forest-fire-stara-planina-old-mounta.jpg': Input/output error\n",
      "cp: failed to close '/thesis/Thesis_Work/Data/RemoteData/FireHistory/wildfire-photos/wildfire/forest_fire_desktop_1999x1328_wallpa.jpg': Input/output error\n",
      "cp: failed to close '/thesis/Thesis_Work/Data/RemoteData/FireHistory/wildfire-photos/wildfire/fort-mcmurray-alberta-canada-forest--2.jpg': Input/output error\n",
      "cp: failed to close '/thesis/Thesis_Work/Data/RemoteData/FireHistory/wildfire-photos/wildfire/gettyimages-488018888.jpg': Input/output error\n",
      "cp: failed to close '/thesis/Thesis_Work/Data/RemoteData/FireHistory/wildfire-photos/wildfire/jvf3aum.jpg': Input/output error\n",
      "cp: failed to close '/thesis/Thesis_Work/Data/RemoteData/FireHistory/wildfire-photos/wildfire/me990884-forest-fire-macedonia-hd-a0-1.jpg': Input/output error\n",
      "cp: failed to close '/thesis/Thesis_Work/Data/RemoteData/FireHistory/wildfire-photos/wildfire/rescue-workers-fight-wildfire.jpg': Input/output error\n",
      "cp: failed to close '/thesis/Thesis_Work/Data/RemoteData/FireHistory/wildfire-photos/wildfire/wildfire1.jpg': Input/output error\n"
     ]
    }
   ],
   "source": [
    "for data_link in FireHistory_DATA_LINKS:\n",
    "    data_name=data_link.split(\"/\")[-1]\n",
    "    od.download(\n",
    "       data_link,force=True)#,data_dir=cache_dir)\n",
    "    !cp -r  ./{data_name} {remote_data}/{DataTypes[7]}/\n",
    "    !rm -rf  ./{data_name} "
   ]
  },
  {
   "cell_type": "code",
   "execution_count": 30,
   "id": "6f88c59c-e9fa-48e1-95c2-a96a67080449",
   "metadata": {},
   "outputs": [],
   "source": []
  },
  {
   "cell_type": "code",
   "execution_count": 31,
   "id": "75f2f638-9f5e-4f07-b267-fc57dfd9c93a",
   "metadata": {},
   "outputs": [],
   "source": []
  }
 ],
 "metadata": {
  "kernelspec": {
   "display_name": "Python 3 (ipykernel)",
   "language": "python",
   "name": "python3"
  },
  "language_info": {
   "codemirror_mode": {
    "name": "ipython",
    "version": 3
   },
   "file_extension": ".py",
   "mimetype": "text/x-python",
   "name": "python",
   "nbconvert_exporter": "python",
   "pygments_lexer": "ipython3",
   "version": "3.10.9"
  }
 },
 "nbformat": 4,
 "nbformat_minor": 5
}
